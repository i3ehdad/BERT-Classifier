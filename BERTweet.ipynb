{
  "nbformat": 4,
  "nbformat_minor": 0,
  "metadata": {
    "colab": {
      "name": "BERTweet.ipynb",
      "provenance": [],
      "authorship_tag": "ABX9TyNUM3wu5kgYXSdu9Xw1cxdS",
      "include_colab_link": true
    },
    "kernelspec": {
      "name": "python3",
      "display_name": "Python 3"
    },
    "language_info": {
      "name": "python"
    }
  },
  "cells": [
    {
      "cell_type": "markdown",
      "metadata": {
        "id": "view-in-github",
        "colab_type": "text"
      },
      "source": [
        "<a href=\"https://colab.research.google.com/github/i3ehdad/BERTweet-Classifier/blob/main/BERTweet.ipynb\" target=\"_parent\"><img src=\"https://colab.research.google.com/assets/colab-badge.svg\" alt=\"Open In Colab\"/></a>"
      ]
    },
    {
      "cell_type": "markdown",
      "source": [
        "#BERTweet fine-tuning on SemEval dataset"
      ],
      "metadata": {
        "id": "Tupu2lcOGt8_"
      }
    },
    {
      "cell_type": "code",
      "source": [
        "!pip3 install emoji\n",
        "!pip install transformers sentencepiece"
      ],
      "metadata": {
        "id": "ylmKffrsGwF9"
      },
      "execution_count": null,
      "outputs": []
    },
    {
      "cell_type": "code",
      "source": [
        "from transformers import AutoModel, AutoTokenizer \n",
        "\n",
        "bertweet = AutoModel.from_pretrained(\"vinai/bertweet-base\")\n",
        "tokenizer = AutoTokenizer.from_pretrained(\"vinai/bertweet-base\", normalization = True, use_fast=False)"
      ],
      "metadata": {
        "id": "S7EEhbxXE3jE"
      },
      "execution_count": null,
      "outputs": []
    },
    {
      "cell_type": "code",
      "source": [
        "def writeResultsInFile(accuracy, f1_score, random_seed):\n",
        "    f = open(\"log\", \"a\")\n",
        "    f.write(f'Random seed : {random_seed}, accuracy : {accuracy}, f1-score : {f1_score}')\n",
        "    f.close()"
      ],
      "metadata": {
        "id": "tT9Y-KOoE3oF"
      },
      "execution_count": null,
      "outputs": []
    },
    {
      "cell_type": "code",
      "source": [
        "import transformers\n",
        "import torch\n",
        "import numpy as np\n",
        "import pandas as pd\n",
        "import seaborn as sns\n",
        "from pylab import rcParams\n",
        "import matplotlib.pyplot as plt\n",
        "from matplotlib import rc\n",
        "from sklearn.model_selection import train_test_split\n",
        "from sklearn.metrics import confusion_matrix, classification_report, recall_score, f1_score, accuracy_score, average_precision_score\n",
        "from collections import defaultdict\n",
        "from textwrap import wrap\n",
        "from torch import nn, optim\n",
        "from torch.utils.data import Dataset, DataLoader\n",
        "%matplotlib inline\n",
        "\n",
        "RANDOM_SEED = 70\n",
        "np.random.seed(RANDOM_SEED)\n",
        "torch.manual_seed(RANDOM_SEED)\n",
        "device = torch.device(\"cuda:0\" if torch.cuda.is_available() else \"cpu\")"
      ],
      "metadata": {
        "id": "NekmRMBQE3to"
      },
      "execution_count": null,
      "outputs": []
    },
    {
      "cell_type": "code",
      "source": [
        "class SATweetDataset(Dataset):\n",
        "\n",
        "  def __init__(self, tweets, targets, tokenizer, max_len):\n",
        "    self.tweets = tweets\n",
        "    self.targets = targets\n",
        "    self.tokenizer = tokenizer\n",
        "    self.max_len = max_len\n",
        "  \n",
        "  def __len__(self):\n",
        "    return len(self.tweets)\n",
        "  \n",
        "  def __getitem__(self, item):\n",
        "    tweet = str(self.tweets[item])\n",
        "    target = self.targets[item]\n",
        "\n",
        "    encoding = self.tokenizer.encode_plus(\n",
        "      tweet,\n",
        "      add_special_tokens=True,\n",
        "      max_length=self.max_len,\n",
        "      truncation= True,\n",
        "      return_token_type_ids=False,\n",
        "      padding = 'max_length',\n",
        "      return_attention_mask=True,\n",
        "      return_tensors='pt',\n",
        "    )\n",
        "\n",
        "    return {\n",
        "      'tweet_text': tweet,\n",
        "      'input_ids': encoding['input_ids'].flatten(),\n",
        "      'attention_mask': encoding['attention_mask'].flatten(),\n",
        "      'targets': torch.tensor(target, dtype=torch.long)\n",
        "    }"
      ],
      "metadata": {
        "id": "fXc2mPKQE3zv"
      },
      "execution_count": null,
      "outputs": []
    },
    {
      "cell_type": "code",
      "source": [
        "def create_data_loader(df, tokenizer, max_len, batch_size):\n",
        "\n",
        "    ds = SATweetDataset(\n",
        "        tweets=df.body.to_numpy(),\n",
        "        targets=df.target.to_numpy(),\n",
        "        tokenizer=tokenizer,\n",
        "        max_len=max_len\n",
        "    )\n",
        "    return DataLoader(\n",
        "        ds,\n",
        "        batch_size=batch_size,\n",
        "        num_workers=4\n",
        "    )"
      ],
      "metadata": {
        "id": "m3XXtLy2E34X"
      },
      "execution_count": null,
      "outputs": []
    },
    {
      "cell_type": "code",
      "source": [
        "PRE_TRAINED_MODEL_NAME = \"vinai/bertweet-base\""
      ],
      "metadata": {
        "id": "0fbq5FltE39d"
      },
      "execution_count": null,
      "outputs": []
    },
    {
      "cell_type": "code",
      "source": [
        "class SentimentClassifier(nn.Module):\n",
        "\n",
        "  def __init__(self, n_classes):\n",
        "    super(SentimentClassifier, self).__init__()\n",
        "    self.bert = bertweet.from_pretrained(PRE_TRAINED_MODEL_NAME)\n",
        "    #self.drop = nn.Dropout(p = 0.33)\n",
        "    \n",
        "    self.fc = nn.Linear(self.bert.config.hidden_size, 192)\n",
        "    \n",
        "    self.relu =  nn.LeakyReLU()\n",
        "\n",
        "    self.out = nn.Linear(192, 1)\n",
        "    \n",
        "    self.tanh = nn.Tanh()\n",
        "\n",
        "  \n",
        "  def forward(self, input_ids, attention_mask):\n",
        "    _, pooled_output = self.bert(\n",
        "      input_ids=input_ids,\n",
        "      attention_mask=attention_mask,\n",
        "      return_dict=False\n",
        "    )\n",
        "    #output = self.drop(pooled_output)\n",
        "    output = pooled_output\n",
        "    \n",
        "    output = self.fc(output)\n",
        "\n",
        "    output = self.relu(output)\n",
        "\n",
        "    return self.tanh(self.out(output)).flatten()"
      ],
      "metadata": {
        "id": "5mgVwUrQE4BU"
      },
      "execution_count": null,
      "outputs": []
    },
    {
      "cell_type": "code",
      "source": [
        "convert_to_label = np.vectorize(lambda x: -1 if x < -0.5 else (1 if x > 0.5 else 0))"
      ],
      "metadata": {
        "id": "GyugEuk6E4Ft"
      },
      "execution_count": null,
      "outputs": []
    },
    {
      "cell_type": "code",
      "source": [
        "def train_epoch(model, data_loader, loss_fn, optimizer,  device, n_examples):\n",
        "  model = model.train()\n",
        "  losses = []\n",
        "  correct_predictions = 0\n",
        "  \n",
        "  for d in data_loader:\n",
        "    input_ids = d[\"input_ids\"].to(device)\n",
        "    attention_mask = d[\"attention_mask\"].to(device)\n",
        "    targets = d[\"targets\"].to(device)\n",
        "\n",
        "    outputs = model(\n",
        "      input_ids=input_ids,\n",
        "      attention_mask=attention_mask\n",
        "    )\n",
        "\n",
        "    preds = convert_to_label(outputs.cpu().detach().numpy())\n",
        "    loss = loss_fn(outputs, targets)\n",
        "    correct_predictions += np.sum(preds == targets.cpu().numpy())\n",
        "    losses.append(loss.item())\n",
        "\n",
        "    loss.backward()\n",
        "    optimizer.step()\n",
        "    optimizer.zero_grad()\n",
        "\n",
        "  return correct_predictions / n_examples, np.mean(losses)"
      ],
      "metadata": {
        "id": "JtPNgfOiE4KZ"
      },
      "execution_count": null,
      "outputs": []
    },
    {
      "cell_type": "code",
      "source": [
        "def eval_model(model, data_loader, loss_fn, device, n_examples):\n",
        "  model = model.eval()\n",
        "\n",
        "  losses = []\n",
        "  correct_predictions = 0\n",
        "\n",
        "  with torch.no_grad():\n",
        "    for d in data_loader:\n",
        "      input_ids = d[\"input_ids\"].to(device)\n",
        "      attention_mask = d[\"attention_mask\"].to(device)\n",
        "      targets = d[\"targets\"].to(device)\n",
        "\n",
        "      outputs = model(\n",
        "        input_ids=input_ids,\n",
        "        attention_mask=attention_mask\n",
        "      )\n",
        "      preds = convert_to_label(outputs.cpu().detach().numpy())\n",
        "\n",
        "      loss = loss_fn(outputs, targets)\n",
        "\n",
        "      correct_predictions += np.sum(preds == targets.cpu().numpy())\n",
        "      losses.append(loss.item())\n",
        "\n",
        "  return correct_predictions / n_examples, np.mean(losses)"
      ],
      "metadata": {
        "id": "BVPvnqdiE4O8"
      },
      "execution_count": null,
      "outputs": []
    },
    {
      "cell_type": "code",
      "source": [
        "def get_predictions(model, data_loader):\n",
        "  model = model.eval()\n",
        "  \n",
        "  tweets_content = []\n",
        "  predictions = []\n",
        "  prediction_probs = []\n",
        "  real_values = []\n",
        "\n",
        "  with torch.no_grad():\n",
        "    for d in data_loader:\n",
        "\n",
        "      texts = d[\"tweet_text\"]\n",
        "      input_ids = d[\"input_ids\"].to(device)\n",
        "      attention_mask = d[\"attention_mask\"].to(device)\n",
        "      targets = d[\"targets\"].to(device)\n",
        "\n",
        "      outputs = model(\n",
        "        input_ids=input_ids,\n",
        "        attention_mask=attention_mask\n",
        "      )\n",
        "      \n",
        "      preds = convert_to_label(outputs.cpu().detach().numpy())\n",
        "      \n",
        "      probs = outputs\n",
        "\n",
        "      tweets_content.extend(texts)\n",
        "      predictions.extend(preds)\n",
        "      prediction_probs.extend(probs)\n",
        "      real_values.extend(targets)\n",
        "\n",
        "  predictions = np.array(predictions)\n",
        "  prediction_probs = torch.stack(prediction_probs).cpu()\n",
        "  real_values = torch.stack(real_values).cpu()\n",
        "  return tweets_content, predictions, prediction_probs, real_values"
      ],
      "metadata": {
        "id": "PSVqc6FNE4TM"
      },
      "execution_count": null,
      "outputs": []
    },
    {
      "cell_type": "code",
      "source": [
        "def show_confusion_matrix(confusion_matrix):\n",
        "  hmap = sns.heatmap(confusion_matrix, annot=True, fmt=\"d\", cmap=\"Blues\")\n",
        "  hmap.yaxis.set_ticklabels(hmap.yaxis.get_ticklabels(), rotation=0, ha='right')\n",
        "  hmap.xaxis.set_ticklabels(hmap.xaxis.get_ticklabels(), rotation=30, ha='right')\n",
        "  plt.ylabel('True sentiment')\n",
        "  plt.xlabel('Predicted sentiment');"
      ],
      "metadata": {
        "id": "Ux39zQyZE4YB"
      },
      "execution_count": null,
      "outputs": []
    },
    {
      "cell_type": "code",
      "source": [
        "def avg_rec(y_test, y_pred):\n",
        "    rec_n, rec_u, rec_p = recall_score(y_test, y_pred, average=None)\n",
        "    return (1/3) * (rec_n+ rec_u+ rec_p)"
      ],
      "metadata": {
        "id": "dLEZUQwRE4dz"
      },
      "execution_count": null,
      "outputs": []
    },
    {
      "cell_type": "code",
      "source": [
        "def f1_np(y_test, y_pred):\n",
        "    f1_n, _,f1_p = f1_score(y_test, y_pred, average=None)\n",
        "    return 0.5*(f1_n+f1_p)"
      ],
      "metadata": {
        "id": "UiKzZdp1E4jT"
      },
      "execution_count": null,
      "outputs": []
    },
    {
      "cell_type": "code",
      "source": [
        "import os\n",
        "os.chdir('/content/drive/MyDrive/data/Extract-data')\n",
        "df = pd.read_csv('df.csv')\n",
        "df_test = pd.read_csv('labelled.csv')"
      ],
      "metadata": {
        "id": "FFYgGWe1E4pO"
      },
      "execution_count": null,
      "outputs": []
    },
    {
      "cell_type": "code",
      "source": [
        "df_train, df_val = train_test_split(df, test_size=0.1, random_state=RANDOM_SEED)"
      ],
      "metadata": {
        "id": "BqMkoNajE4uh"
      },
      "execution_count": null,
      "outputs": []
    },
    {
      "cell_type": "code",
      "source": [
        "df_test.Sentiment.value_counts()"
      ],
      "metadata": {
        "id": "7eCMr6SsE4z-"
      },
      "execution_count": null,
      "outputs": []
    },
    {
      "cell_type": "code",
      "source": [
        "def sentiment_encode(Sentiment):\n",
        "  if Sentiment == 'Negative ':\n",
        "    return -1\n",
        "  elif Sentiment == 'Neutral ':\n",
        "    return 0\n",
        "  else: \n",
        "    return 1"
      ],
      "metadata": {
        "id": "_71XpxWeE45e"
      },
      "execution_count": null,
      "outputs": []
    },
    {
      "cell_type": "code",
      "source": [
        "df_train['target'] = df_train.Sentiment.apply(sentiment_encode)\n",
        "df_val['target'] = df_val.Sentiment.apply(sentiment_encode)\n",
        "df_test['target'] = df_test.Sentiment.apply(sentiment_encode)"
      ],
      "metadata": {
        "id": "nuYdhsG4FUqf"
      },
      "execution_count": null,
      "outputs": []
    },
    {
      "cell_type": "code",
      "source": [
        "df_test['target'] = df_test.Sentiment.apply(sentiment_encode)\n",
        "class_names = ['Negative', 'Neutral', 'Positive']\n",
        "\n",
        "BATCH_SIZE = 32 \n",
        "MAX_LEN = 104"
      ],
      "metadata": {
        "id": "wAUTZnfTFUw9"
      },
      "execution_count": null,
      "outputs": []
    },
    {
      "cell_type": "code",
      "source": [
        "train_data_loader = create_data_loader(df_train, tokenizer, MAX_LEN, BATCH_SIZE)\n",
        "val_data_loader = create_data_loader(df_val, tokenizer, MAX_LEN, BATCH_SIZE)\n",
        "test_data_loader = create_data_loader(df_test, tokenizer, MAX_LEN, BATCH_SIZE)"
      ],
      "metadata": {
        "id": "NrEOnaQBFU2F"
      },
      "execution_count": null,
      "outputs": []
    },
    {
      "cell_type": "code",
      "source": [
        "data = next(iter(train_data_loader))\n",
        "data.keys()"
      ],
      "metadata": {
        "id": "bnTwKYRZFU7K"
      },
      "execution_count": null,
      "outputs": []
    },
    {
      "cell_type": "code",
      "source": [
        "model = SentimentClassifier(len(class_names))\n",
        "model = model.to(device)"
      ],
      "metadata": {
        "id": "6TTAEYTEFVBj"
      },
      "execution_count": null,
      "outputs": []
    },
    {
      "cell_type": "code",
      "source": [
        "input_ids = data['input_ids'].to(device)\n",
        "attention_mask = data['attention_mask'].to(device)\n",
        "\n",
        "print(input_ids.shape) # batch size x seq length\n",
        "print(attention_mask.shape) # batch size x seq length"
      ],
      "metadata": {
        "id": "VIBO-CnNFfpT"
      },
      "execution_count": null,
      "outputs": []
    },
    {
      "cell_type": "code",
      "source": [
        "# Hyperparameters \n",
        "\n",
        "EPOCHS = 25\n",
        "\n",
        "optimizer = optim.AdamW(model.parameters(), lr=1e-6)\n",
        "total_steps = len(train_data_loader) * EPOCHS\n",
        "\n",
        "scheduler = transformers.get_linear_schedule_with_warmup(\n",
        "  optimizer,\n",
        "  num_warmup_steps=0,\n",
        "  num_training_steps=total_steps\n",
        ")\n",
        "\n",
        "loss_fn = nn.L1Loss().to(device)"
      ],
      "metadata": {
        "id": "8EgrghAAFfwW"
      },
      "execution_count": null,
      "outputs": []
    },
    {
      "cell_type": "code",
      "source": [
        "# Initiate the training loop \n",
        "\n",
        "%%time\n",
        "\n",
        "history = defaultdict(list)\n",
        "best_accuracy = 0\n",
        "early_stop = 0\n",
        "\n",
        "for epoch in range(EPOCHS):\n",
        "\n",
        "  print(f'Epoch {epoch + 1}/{EPOCHS}')\n",
        "  print('-' * 10)\n",
        "\n",
        "  train_acc, train_loss = train_epoch(\n",
        "    model,\n",
        "    train_data_loader,    \n",
        "    loss_fn, \n",
        "    optimizer, \n",
        "    device, \n",
        "    len(df_train)\n",
        "  )\n",
        "\n",
        "  print(f'Train loss {train_loss} accuracy {train_acc}')\n",
        "\n",
        "  val_acc, val_loss = eval_model(\n",
        "    model,\n",
        "    val_data_loader,\n",
        "    loss_fn, \n",
        "    device, \n",
        "    len(df_val)\n",
        "  )\n",
        "\n",
        "  print(f'Val   loss {val_loss} accuracy {val_acc}')\n",
        "  print()\n",
        "\n",
        "  history['train_acc'].append(train_acc)\n",
        "  history['train_loss'].append(train_loss)\n",
        "  history['val_acc'].append(val_acc)\n",
        "  history['val_loss'].append(val_loss)\n",
        "\n",
        "  torch.save(model.state_dict(), 'Bertweet_model_state5.bin')\n",
        "\n",
        "\n",
        "\n",
        "\n",
        "\n",
        "  #if val_acc > best_accuracy:\n",
        "   # torch.save(model.state_dict(), 'Bertweet_model_state1.bin')\n",
        "   # best_accuracy = val_acc\n",
        "    #early_stop = 0\n",
        "  #else:\n",
        "     # early_stop = early_stop + 1\n",
        "     # if early_stop == 10:\n",
        "       # break"
      ],
      "metadata": {
        "id": "naadoe4XFjX5"
      },
      "execution_count": null,
      "outputs": []
    },
    {
      "cell_type": "code",
      "source": [
        ""
      ],
      "metadata": {
        "id": "P_duD5hXFjfj"
      },
      "execution_count": null,
      "outputs": []
    },
    {
      "cell_type": "code",
      "source": [
        "# Load model parameters\n",
        "model.load_state_dict(torch.load('Bertweet_model_state5.bin'))"
      ],
      "metadata": {
        "id": "Rq8D_U0eFjkS"
      },
      "execution_count": null,
      "outputs": []
    },
    {
      "cell_type": "code",
      "source": [
        "test_acc, _ = eval_model(\n",
        "  model,\n",
        "  test_data_loader,\n",
        "  loss_fn,\n",
        "  device,\n",
        "  len(df_test)\n",
        ")\n",
        "\n",
        "test_acc.item()"
      ],
      "metadata": {
        "id": "XhP_IxJrFjpl"
      },
      "execution_count": null,
      "outputs": []
    },
    {
      "cell_type": "code",
      "source": [
        "test_data_loader = create_data_loader(df_test, tokenizer, MAX_LEN, BATCH_SIZE)"
      ],
      "metadata": {
        "id": "v-KEFmmCFsLX"
      },
      "execution_count": null,
      "outputs": []
    },
    {
      "cell_type": "code",
      "source": [
        "y_tweet_texts, y_pred, y_pred_probs, y_test = get_predictions(\n",
        "  model,\n",
        "  test_data_loader\n",
        ")"
      ],
      "metadata": {
        "id": "WD7pOvB4FsUa"
      },
      "execution_count": null,
      "outputs": []
    },
    {
      "cell_type": "code",
      "source": [
        "# Classification Report\n",
        "print(classification_report(y_test, y_pred, target_names=class_names))"
      ],
      "metadata": {
        "id": "YMAEHRivFyoe"
      },
      "execution_count": null,
      "outputs": []
    }
  ]
}