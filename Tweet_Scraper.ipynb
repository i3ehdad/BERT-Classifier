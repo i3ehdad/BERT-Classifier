{
  "nbformat": 4,
  "nbformat_minor": 0,
  "metadata": {
    "colab": {
      "name": "Tweet-Scraper.ipynb",
      "provenance": [],
      "authorship_tag": "ABX9TyOx/FnBTkIl9Cbb8Zfoa241",
      "include_colab_link": true
    },
    "kernelspec": {
      "name": "python3",
      "display_name": "Python 3"
    },
    "language_info": {
      "name": "python"
    }
  },
  "cells": [
    {
      "cell_type": "markdown",
      "metadata": {
        "id": "view-in-github",
        "colab_type": "text"
      },
      "source": [
        "<a href=\"https://colab.research.google.com/github/i3ehdad/BERTweet-Classifier/blob/main/Tweet_Scraper.ipynb\" target=\"_parent\"><img src=\"https://colab.research.google.com/assets/colab-badge.svg\" alt=\"Open In Colab\"/></a>"
      ]
    },
    {
      "cell_type": "markdown",
      "source": [
        "# Twitter Data Collection & Cleaning Pipeline\n"
      ],
      "metadata": {
        "id": "NpiqBXkpJDt7"
      }
    },
    {
      "cell_type": "code",
      "source": [
        "import pandas as pd\n",
        "import numpy as np\n",
        "import os"
      ],
      "metadata": {
        "id": "FvQhSJHDJOt6"
      },
      "execution_count": null,
      "outputs": []
    },
    {
      "cell_type": "code",
      "source": [
        " os.chdir('/content/drive/MyDrive/alldata/')\n",
        "cwd = os.getcwd()\n",
        "print(\"Current working directory is:\", cwd)"
      ],
      "metadata": {
        "id": "2hsAeKzCJO7X"
      },
      "execution_count": null,
      "outputs": []
    },
    {
      "cell_type": "code",
      "source": [
        "!pip install snscrape\n",
        "!pip install VaderSentiment"
      ],
      "metadata": {
        "id": "Y2_m_rC2JPDF"
      },
      "execution_count": null,
      "outputs": []
    },
    {
      "cell_type": "code",
      "source": [
        "\n",
        "'''\n",
        "\n",
        "Collecting tweets using the Snscrape library\n",
        "\n",
        "'''\n",
        "\n",
        "\n",
        "import snscrape.modules.twitter as sntwitter\n",
        "import nltk\n",
        "from nltk.corpus import stopwords\n",
        "nltk.download('stopwords')\n",
        "from nltk.stem.wordnet import WordNetLemmatizer\n",
        "from gensim.parsing.preprocessing import *\n",
        "\n",
        "stemmer = PorterStemmer()\n",
        "stop = set(stopwords.words('english'))\n",
        "exclude = set(string.punctuation)\n",
        "lemmatizer = WordNetLemmatizer()\n",
        "w_tokenizer = nltk.tokenize.WhitespaceTokenizer()\n",
        "\n",
        "# Tweet cleaner object\n",
        "\n",
        "def clean_tweets(x):\n",
        "\n",
        "    x = re.sub(r'http\\S+', ' ', x) # removal of URLs\n",
        "    x = re.sub(r'\\s*[^ /]+/[^ /]+', ' ', x)  # Removal of characters not present in the English Unicode\n",
        "    x = re.sub(r'[^\\x00-\\x7f]', ' ', x)  # Removal of hashtags and tags\n",
        "    x = re.sub(r'[@#]\\w*\\b', r' ', x)  # Removal of # and @ characters\n",
        "    x = re.sub(r'[@#]', r' ', x)  # Space normalization\n",
        "\n",
        "\n",
        "    return x\n",
        "\n",
        "\n",
        "\n",
        "# Creating list to append tweet data \n",
        "tweets_list1 = []\n",
        "\n",
        "# Query words, accounts or hashtags in target tweets \n",
        "my_query = '@GameStop OR @gamestophelp OR #Gamestop OR Gamestop'\n",
        "sid_obj = SentimentIntensityAnalyzer()\n",
        "\n",
        "# Using TwitterSearchScraper to scrape the query data and append tweets to the list\n",
        "for i,tweet in enumerate(sntwitter.TwitterSearchScraper(f'{my_query} since:2019-01-01 until:2019-02-01').get_items()):\n",
        "    cleaned_tweet = clean_tweets(tweet.content)\n",
        "    tweets_list1.append([tweet.date, tweet.id, tweet.content, tweet.username,cleaned_tweet ])\n",
        "\n",
        "# Creating a dataframe \n",
        "tweets_df1 = pd.DataFrame(tweets_list1, columns=['Datetime', 'Tweet Id', 'Text', 'Username', 'cleaned Tweet'])\n",
        "\n",
        "\n",
        "import os\n",
        "os.system('say \"Your Code has finished!\"')"
      ],
      "metadata": {
        "id": "J5-49FymJPHI"
      },
      "execution_count": null,
      "outputs": []
    },
    {
      "cell_type": "code",
      "source": [
        ""
      ],
      "metadata": {
        "id": "Bhn_RiiNJPLD"
      },
      "execution_count": null,
      "outputs": []
    }
  ]
}